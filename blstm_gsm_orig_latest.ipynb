{
  "nbformat": 4,
  "nbformat_minor": 0,
  "metadata": {
    "colab": {
      "name": "blstm_gsm_orig-latest.ipynb",
      "provenance": [],
      "collapsed_sections": [],
      "include_colab_link": true
    },
    "kernelspec": {
      "name": "python3",
      "display_name": "Python 3"
    },
    "accelerator": "GPU",
    "widgets": {
      "application/vnd.jupyter.widget-state+json": {
        "9879be33348d4062a671c6acb90c6760": {
          "model_module": "@jupyter-widgets/controls",
          "model_name": "HBoxModel",
          "state": {
            "_view_name": "HBoxView",
            "_dom_classes": [],
            "_model_name": "HBoxModel",
            "_view_module": "@jupyter-widgets/controls",
            "_model_module_version": "1.5.0",
            "_view_count": null,
            "_view_module_version": "1.5.0",
            "box_style": "",
            "layout": "IPY_MODEL_0fb0bd27f3ed41f39b0cb24679e577ab",
            "_model_module": "@jupyter-widgets/controls",
            "children": [
              "IPY_MODEL_40e9047c9adb4db5aacabcd46f553930",
              "IPY_MODEL_2f369b2a40dc4f90bfe4d1f8382ade68"
            ]
          }
        },
        "0fb0bd27f3ed41f39b0cb24679e577ab": {
          "model_module": "@jupyter-widgets/base",
          "model_name": "LayoutModel",
          "state": {
            "_view_name": "LayoutView",
            "grid_template_rows": null,
            "right": null,
            "justify_content": null,
            "_view_module": "@jupyter-widgets/base",
            "overflow": null,
            "_model_module_version": "1.2.0",
            "_view_count": null,
            "flex_flow": null,
            "width": null,
            "min_width": null,
            "border": null,
            "align_items": null,
            "bottom": null,
            "_model_module": "@jupyter-widgets/base",
            "top": null,
            "grid_column": null,
            "overflow_y": null,
            "overflow_x": null,
            "grid_auto_flow": null,
            "grid_area": null,
            "grid_template_columns": null,
            "flex": null,
            "_model_name": "LayoutModel",
            "justify_items": null,
            "grid_row": null,
            "max_height": null,
            "align_content": null,
            "visibility": null,
            "align_self": null,
            "height": null,
            "min_height": null,
            "padding": null,
            "grid_auto_rows": null,
            "grid_gap": null,
            "max_width": null,
            "order": null,
            "_view_module_version": "1.2.0",
            "grid_template_areas": null,
            "object_position": null,
            "object_fit": null,
            "grid_auto_columns": null,
            "margin": null,
            "display": null,
            "left": null
          }
        },
        "40e9047c9adb4db5aacabcd46f553930": {
          "model_module": "@jupyter-widgets/controls",
          "model_name": "FloatProgressModel",
          "state": {
            "_view_name": "ProgressView",
            "style": "IPY_MODEL_8e655c990dc44efbaa0c24a0d0fd9c29",
            "_dom_classes": [],
            "description": "100%",
            "_model_name": "FloatProgressModel",
            "bar_style": "success",
            "max": 3736,
            "_view_module": "@jupyter-widgets/controls",
            "_model_module_version": "1.5.0",
            "value": 3736,
            "_view_count": null,
            "_view_module_version": "1.5.0",
            "orientation": "horizontal",
            "min": 0,
            "description_tooltip": null,
            "_model_module": "@jupyter-widgets/controls",
            "layout": "IPY_MODEL_4108d6883afe43bf95224d7528105d12"
          }
        },
        "2f369b2a40dc4f90bfe4d1f8382ade68": {
          "model_module": "@jupyter-widgets/controls",
          "model_name": "HTMLModel",
          "state": {
            "_view_name": "HTMLView",
            "style": "IPY_MODEL_df8ca0b5b7c744c4b137f18079cd90a9",
            "_dom_classes": [],
            "description": "",
            "_model_name": "HTMLModel",
            "placeholder": "​",
            "_view_module": "@jupyter-widgets/controls",
            "_model_module_version": "1.5.0",
            "value": " 3736/3736 [1:45:06&lt;00:00,  1.69s/it]",
            "_view_count": null,
            "_view_module_version": "1.5.0",
            "description_tooltip": null,
            "_model_module": "@jupyter-widgets/controls",
            "layout": "IPY_MODEL_abb2b16bc36f4d0d9a535c0c69e23441"
          }
        },
        "8e655c990dc44efbaa0c24a0d0fd9c29": {
          "model_module": "@jupyter-widgets/controls",
          "model_name": "ProgressStyleModel",
          "state": {
            "_view_name": "StyleView",
            "_model_name": "ProgressStyleModel",
            "description_width": "initial",
            "_view_module": "@jupyter-widgets/base",
            "_model_module_version": "1.5.0",
            "_view_count": null,
            "_view_module_version": "1.2.0",
            "bar_color": null,
            "_model_module": "@jupyter-widgets/controls"
          }
        },
        "4108d6883afe43bf95224d7528105d12": {
          "model_module": "@jupyter-widgets/base",
          "model_name": "LayoutModel",
          "state": {
            "_view_name": "LayoutView",
            "grid_template_rows": null,
            "right": null,
            "justify_content": null,
            "_view_module": "@jupyter-widgets/base",
            "overflow": null,
            "_model_module_version": "1.2.0",
            "_view_count": null,
            "flex_flow": null,
            "width": null,
            "min_width": null,
            "border": null,
            "align_items": null,
            "bottom": null,
            "_model_module": "@jupyter-widgets/base",
            "top": null,
            "grid_column": null,
            "overflow_y": null,
            "overflow_x": null,
            "grid_auto_flow": null,
            "grid_area": null,
            "grid_template_columns": null,
            "flex": null,
            "_model_name": "LayoutModel",
            "justify_items": null,
            "grid_row": null,
            "max_height": null,
            "align_content": null,
            "visibility": null,
            "align_self": null,
            "height": null,
            "min_height": null,
            "padding": null,
            "grid_auto_rows": null,
            "grid_gap": null,
            "max_width": null,
            "order": null,
            "_view_module_version": "1.2.0",
            "grid_template_areas": null,
            "object_position": null,
            "object_fit": null,
            "grid_auto_columns": null,
            "margin": null,
            "display": null,
            "left": null
          }
        },
        "df8ca0b5b7c744c4b137f18079cd90a9": {
          "model_module": "@jupyter-widgets/controls",
          "model_name": "DescriptionStyleModel",
          "state": {
            "_view_name": "StyleView",
            "_model_name": "DescriptionStyleModel",
            "description_width": "",
            "_view_module": "@jupyter-widgets/base",
            "_model_module_version": "1.5.0",
            "_view_count": null,
            "_view_module_version": "1.2.0",
            "_model_module": "@jupyter-widgets/controls"
          }
        },
        "abb2b16bc36f4d0d9a535c0c69e23441": {
          "model_module": "@jupyter-widgets/base",
          "model_name": "LayoutModel",
          "state": {
            "_view_name": "LayoutView",
            "grid_template_rows": null,
            "right": null,
            "justify_content": null,
            "_view_module": "@jupyter-widgets/base",
            "overflow": null,
            "_model_module_version": "1.2.0",
            "_view_count": null,
            "flex_flow": null,
            "width": null,
            "min_width": null,
            "border": null,
            "align_items": null,
            "bottom": null,
            "_model_module": "@jupyter-widgets/base",
            "top": null,
            "grid_column": null,
            "overflow_y": null,
            "overflow_x": null,
            "grid_auto_flow": null,
            "grid_area": null,
            "grid_template_columns": null,
            "flex": null,
            "_model_name": "LayoutModel",
            "justify_items": null,
            "grid_row": null,
            "max_height": null,
            "align_content": null,
            "visibility": null,
            "align_self": null,
            "height": null,
            "min_height": null,
            "padding": null,
            "grid_auto_rows": null,
            "grid_gap": null,
            "max_width": null,
            "order": null,
            "_view_module_version": "1.2.0",
            "grid_template_areas": null,
            "object_position": null,
            "object_fit": null,
            "grid_auto_columns": null,
            "margin": null,
            "display": null,
            "left": null
          }
        },
        "bc60366c740c47059a865ca4fe8f2f5a": {
          "model_module": "@jupyter-widgets/controls",
          "model_name": "HBoxModel",
          "state": {
            "_view_name": "HBoxView",
            "_dom_classes": [],
            "_model_name": "HBoxModel",
            "_view_module": "@jupyter-widgets/controls",
            "_model_module_version": "1.5.0",
            "_view_count": null,
            "_view_module_version": "1.5.0",
            "box_style": "",
            "layout": "IPY_MODEL_55034e6ae3d046179fa65b1877da39e0",
            "_model_module": "@jupyter-widgets/controls",
            "children": [
              "IPY_MODEL_39ee6d8c50ea4fa3be968abf16faace9",
              "IPY_MODEL_5702788aaf7c4915941962934ec1a01d"
            ]
          }
        },
        "55034e6ae3d046179fa65b1877da39e0": {
          "model_module": "@jupyter-widgets/base",
          "model_name": "LayoutModel",
          "state": {
            "_view_name": "LayoutView",
            "grid_template_rows": null,
            "right": null,
            "justify_content": null,
            "_view_module": "@jupyter-widgets/base",
            "overflow": null,
            "_model_module_version": "1.2.0",
            "_view_count": null,
            "flex_flow": null,
            "width": null,
            "min_width": null,
            "border": null,
            "align_items": null,
            "bottom": null,
            "_model_module": "@jupyter-widgets/base",
            "top": null,
            "grid_column": null,
            "overflow_y": null,
            "overflow_x": null,
            "grid_auto_flow": null,
            "grid_area": null,
            "grid_template_columns": null,
            "flex": null,
            "_model_name": "LayoutModel",
            "justify_items": null,
            "grid_row": null,
            "max_height": null,
            "align_content": null,
            "visibility": null,
            "align_self": null,
            "height": null,
            "min_height": null,
            "padding": null,
            "grid_auto_rows": null,
            "grid_gap": null,
            "max_width": null,
            "order": null,
            "_view_module_version": "1.2.0",
            "grid_template_areas": null,
            "object_position": null,
            "object_fit": null,
            "grid_auto_columns": null,
            "margin": null,
            "display": null,
            "left": null
          }
        },
        "39ee6d8c50ea4fa3be968abf16faace9": {
          "model_module": "@jupyter-widgets/controls",
          "model_name": "FloatProgressModel",
          "state": {
            "_view_name": "ProgressView",
            "style": "IPY_MODEL_429a1c4d97574f27a97c0789c00b9363",
            "_dom_classes": [],
            "description": "100%",
            "_model_name": "FloatProgressModel",
            "bar_style": "success",
            "max": 2,
            "_view_module": "@jupyter-widgets/controls",
            "_model_module_version": "1.5.0",
            "value": 2,
            "_view_count": null,
            "_view_module_version": "1.5.0",
            "orientation": "horizontal",
            "min": 0,
            "description_tooltip": null,
            "_model_module": "@jupyter-widgets/controls",
            "layout": "IPY_MODEL_e9251d33925244579bf23ab6ba6c5137"
          }
        },
        "5702788aaf7c4915941962934ec1a01d": {
          "model_module": "@jupyter-widgets/controls",
          "model_name": "HTMLModel",
          "state": {
            "_view_name": "HTMLView",
            "style": "IPY_MODEL_21eeae3ff6db4d38b43041f9cb58daec",
            "_dom_classes": [],
            "description": "",
            "_model_name": "HTMLModel",
            "placeholder": "​",
            "_view_module": "@jupyter-widgets/controls",
            "_model_module_version": "1.5.0",
            "value": " 2/2 [01:15&lt;00:00, 37.74s/it]",
            "_view_count": null,
            "_view_module_version": "1.5.0",
            "description_tooltip": null,
            "_model_module": "@jupyter-widgets/controls",
            "layout": "IPY_MODEL_5b7482990baa40e5bad332eb9f51cf94"
          }
        },
        "429a1c4d97574f27a97c0789c00b9363": {
          "model_module": "@jupyter-widgets/controls",
          "model_name": "ProgressStyleModel",
          "state": {
            "_view_name": "StyleView",
            "_model_name": "ProgressStyleModel",
            "description_width": "initial",
            "_view_module": "@jupyter-widgets/base",
            "_model_module_version": "1.5.0",
            "_view_count": null,
            "_view_module_version": "1.2.0",
            "bar_color": null,
            "_model_module": "@jupyter-widgets/controls"
          }
        },
        "e9251d33925244579bf23ab6ba6c5137": {
          "model_module": "@jupyter-widgets/base",
          "model_name": "LayoutModel",
          "state": {
            "_view_name": "LayoutView",
            "grid_template_rows": null,
            "right": null,
            "justify_content": null,
            "_view_module": "@jupyter-widgets/base",
            "overflow": null,
            "_model_module_version": "1.2.0",
            "_view_count": null,
            "flex_flow": null,
            "width": null,
            "min_width": null,
            "border": null,
            "align_items": null,
            "bottom": null,
            "_model_module": "@jupyter-widgets/base",
            "top": null,
            "grid_column": null,
            "overflow_y": null,
            "overflow_x": null,
            "grid_auto_flow": null,
            "grid_area": null,
            "grid_template_columns": null,
            "flex": null,
            "_model_name": "LayoutModel",
            "justify_items": null,
            "grid_row": null,
            "max_height": null,
            "align_content": null,
            "visibility": null,
            "align_self": null,
            "height": null,
            "min_height": null,
            "padding": null,
            "grid_auto_rows": null,
            "grid_gap": null,
            "max_width": null,
            "order": null,
            "_view_module_version": "1.2.0",
            "grid_template_areas": null,
            "object_position": null,
            "object_fit": null,
            "grid_auto_columns": null,
            "margin": null,
            "display": null,
            "left": null
          }
        },
        "21eeae3ff6db4d38b43041f9cb58daec": {
          "model_module": "@jupyter-widgets/controls",
          "model_name": "DescriptionStyleModel",
          "state": {
            "_view_name": "StyleView",
            "_model_name": "DescriptionStyleModel",
            "description_width": "",
            "_view_module": "@jupyter-widgets/base",
            "_model_module_version": "1.5.0",
            "_view_count": null,
            "_view_module_version": "1.2.0",
            "_model_module": "@jupyter-widgets/controls"
          }
        },
        "5b7482990baa40e5bad332eb9f51cf94": {
          "model_module": "@jupyter-widgets/base",
          "model_name": "LayoutModel",
          "state": {
            "_view_name": "LayoutView",
            "grid_template_rows": null,
            "right": null,
            "justify_content": null,
            "_view_module": "@jupyter-widgets/base",
            "overflow": null,
            "_model_module_version": "1.2.0",
            "_view_count": null,
            "flex_flow": null,
            "width": null,
            "min_width": null,
            "border": null,
            "align_items": null,
            "bottom": null,
            "_model_module": "@jupyter-widgets/base",
            "top": null,
            "grid_column": null,
            "overflow_y": null,
            "overflow_x": null,
            "grid_auto_flow": null,
            "grid_area": null,
            "grid_template_columns": null,
            "flex": null,
            "_model_name": "LayoutModel",
            "justify_items": null,
            "grid_row": null,
            "max_height": null,
            "align_content": null,
            "visibility": null,
            "align_self": null,
            "height": null,
            "min_height": null,
            "padding": null,
            "grid_auto_rows": null,
            "grid_gap": null,
            "max_width": null,
            "order": null,
            "_view_module_version": "1.2.0",
            "grid_template_areas": null,
            "object_position": null,
            "object_fit": null,
            "grid_auto_columns": null,
            "margin": null,
            "display": null,
            "left": null
          }
        }
      }
    }
  },
  "cells": [
    {
      "cell_type": "markdown",
      "metadata": {
        "id": "view-in-github",
        "colab_type": "text"
      },
      "source": [
        "<a href=\"https://colab.research.google.com/github/bheshaj96/tensorflow-exercises/blob/master/blstm_gsm_orig_latest.ipynb\" target=\"_parent\"><img src=\"https://colab.research.google.com/assets/colab-badge.svg\" alt=\"Open In Colab\"/></a>"
      ]
    },
    {
      "cell_type": "code",
      "metadata": {
        "id": "Fu5ADvX9Tr7M",
        "colab_type": "code",
        "colab": {}
      },
      "source": [
        ""
      ],
      "execution_count": null,
      "outputs": []
    },
    {
      "cell_type": "markdown",
      "metadata": {
        "id": "oPB_kZVdSmqn",
        "colab_type": "text"
      },
      "source": [
        "PLease note that, i have extracted mfcc for train and test separately. After \n",
        "extracting for train i scaled it as \n",
        "x_new = [x-mean(x)]/[max(x)-min(x)]\n",
        "and stored the values of mean, max and min for each feature component. After that for test file i have used these stored values to scale test features. "
      ]
    },
    {
      "cell_type": "code",
      "metadata": {
        "id": "_gaK2-fZoMEy",
        "colab_type": "code",
        "colab": {
          "base_uri": "https://localhost:8080/",
          "height": 126
        },
        "outputId": "e27612d5-bbd5-4273-c78e-ae9bb7801871"
      },
      "source": [
        "from google.colab import drive\n",
        "drive.mount('/content/drive')"
      ],
      "execution_count": 1,
      "outputs": [
        {
          "output_type": "stream",
          "text": [
            "Go to this URL in a browser: https://accounts.google.com/o/oauth2/auth?client_id=947318989803-6bn6qk8qdgf4n4g3pfee6491hc0brc4i.apps.googleusercontent.com&redirect_uri=urn%3aietf%3awg%3aoauth%3a2.0%3aoob&response_type=code&scope=email%20https%3a%2f%2fwww.googleapis.com%2fauth%2fdocs.test%20https%3a%2f%2fwww.googleapis.com%2fauth%2fdrive%20https%3a%2f%2fwww.googleapis.com%2fauth%2fdrive.photos.readonly%20https%3a%2f%2fwww.googleapis.com%2fauth%2fpeopleapi.readonly\n",
            "\n",
            "Enter your authorization code:\n",
            "··········\n",
            "Mounted at /content/drive\n"
          ],
          "name": "stdout"
        }
      ]
    },
    {
      "cell_type": "code",
      "metadata": {
        "id": "e1BgG1EUoylf",
        "colab_type": "code",
        "colab": {
          "base_uri": "https://localhost:8080/",
          "height": 34
        },
        "outputId": "3fa8e26a-2cf5-4add-8ec0-bceeea8fec81"
      },
      "source": [
        "%cd drive/My Drive"
      ],
      "execution_count": 2,
      "outputs": [
        {
          "output_type": "stream",
          "text": [
            "/content/drive/My Drive\n"
          ],
          "name": "stdout"
        }
      ]
    },
    {
      "cell_type": "code",
      "metadata": {
        "id": "uIhHQasTo082",
        "colab_type": "code",
        "colab": {}
      },
      "source": [
        "import sys\n",
        "import numpy as np\n",
        "import tensorflow as tf\n",
        "import librosa as lr\n",
        "import os\n",
        "from sklearn.model_selection import train_test_split\n",
        "import matplotlib.pyplot as plt\n",
        "from tqdm.auto import tqdm\n",
        "#np.set_printoptions(threshold=sys.maxsize)"
      ],
      "execution_count": 3,
      "outputs": []
    },
    {
      "cell_type": "code",
      "metadata": {
        "id": "JFz6bFvFo3cO",
        "colab_type": "code",
        "colab": {
          "base_uri": "https://localhost:8080/",
          "height": 34
        },
        "outputId": "7ab8ab81-5b64-4542-ab04-ce306e5d8daf"
      },
      "source": [
        "cur_dir = os.getcwd()\n",
        "print(cur_dir)\n",
        "orig_dir = os.path.join(cur_dir, 'iisc_7_july/original')\n",
        "sip_dir = os.path.join(cur_dir, 'iisc_7_july/sip')\n",
        "gsm_dir = os.path.join(cur_dir, 'iisc_7_july/gsm')\n",
        "orig_filenames = os.listdir(orig_dir)\n",
        "sip_filenames = os.listdir(sip_dir)\n",
        "gsm_filenames = os.listdir(gsm_dir)"
      ],
      "execution_count": 4,
      "outputs": [
        {
          "output_type": "stream",
          "text": [
            "/content/drive/My Drive\n"
          ],
          "name": "stdout"
        }
      ]
    },
    {
      "cell_type": "code",
      "metadata": {
        "id": "8bZ88wHkBTWq",
        "colab_type": "code",
        "colab": {}
      },
      "source": [
        ""
      ],
      "execution_count": null,
      "outputs": []
    },
    {
      "cell_type": "code",
      "metadata": {
        "id": "ltEtuIyH422m",
        "colab_type": "code",
        "colab": {}
      },
      "source": [
        "num_files = 3000\n",
        "mfcc_dim = 13"
      ],
      "execution_count": 5,
      "outputs": []
    },
    {
      "cell_type": "markdown",
      "metadata": {
        "id": "XoobJX48UNDz",
        "colab_type": "text"
      },
      "source": [
        "Here extracting train+val mfccs"
      ]
    },
    {
      "cell_type": "code",
      "metadata": {
        "id": "JXG3jlpL-YXG",
        "colab_type": "code",
        "colab": {
          "base_uri": "https://localhost:8080/",
          "height": 67,
          "referenced_widgets": [
            "9879be33348d4062a671c6acb90c6760",
            "0fb0bd27f3ed41f39b0cb24679e577ab",
            "40e9047c9adb4db5aacabcd46f553930",
            "2f369b2a40dc4f90bfe4d1f8382ade68",
            "8e655c990dc44efbaa0c24a0d0fd9c29",
            "4108d6883afe43bf95224d7528105d12",
            "df8ca0b5b7c744c4b137f18079cd90a9",
            "abb2b16bc36f4d0d9a535c0c69e23441"
          ]
        },
        "outputId": "1b04a0ab-fea7-45e3-9cda-8e32c44a63e4"
      },
      "source": [
        "## 2\n",
        "gsm_unnormalised = []\n",
        "orig_unnormalised= []\n",
        "\n",
        "train_mfcc_nos = [0]\n",
        "for orig_file in tqdm(orig_filenames):\n",
        "  if orig_file in gsm_filenames:\n",
        "    orig_audio_path = os.path.join(orig_dir, orig_file)\n",
        "    gsm_audio_path = os.path.join(gsm_dir, orig_file)\n",
        "\n",
        "    orig, orig_sr = lr.load(orig_audio_path)\n",
        "    gsm, gsm_sr = lr.load(gsm_audio_path)\n",
        "\n",
        "    if (len(orig)!=len(gsm)): \n",
        "        min_len = np.min((len(orig), len(gsm)))\n",
        "        orig = orig[0:min_len-1]\n",
        "        gsm = gsm[0:min_len-1]\n",
        "    orig_mfcc = lr.feature.mfcc(orig, orig_sr, n_mfcc= mfcc_dim, hop_length=int(orig_sr/100), n_fft=int(orig_sr/40))  \n",
        "    orig_mfcc = np.vstack((orig_mfcc,lr.feature.delta(orig_mfcc, order=1),lr.feature.delta(orig_mfcc,order= 2)))\n",
        "    gsm_mfcc = lr.feature.mfcc(gsm, gsm_sr, n_mfcc= mfcc_dim, hop_length=int(orig_sr/100), n_fft=int(orig_sr/40))\n",
        "    gsm_mfcc = np.vstack((gsm_mfcc,lr.feature.delta(gsm_mfcc, order=1),lr.feature.delta(gsm_mfcc,order= 2)))\n",
        "    train_mfcc_nos.append(orig_mfcc.shape[1])\n",
        "   \n",
        "    gsm_unnormalised.append(gsm_mfcc.T)\n",
        "    orig_unnormalised.append(orig_mfcc.T)\n",
        "\n",
        "orig_unnormalised_stacked = np.vstack((np.array(orig_unnormalised)))\n",
        "gsm_unnormalised_stacked = np.vstack((np.array(gsm_unnormalised)))\n",
        "train_mfcc_nos = np.array(train_mfcc_nos)"
      ],
      "execution_count": 6,
      "outputs": [
        {
          "output_type": "display_data",
          "data": {
            "application/vnd.jupyter.widget-view+json": {
              "model_id": "9879be33348d4062a671c6acb90c6760",
              "version_minor": 0,
              "version_major": 2
            },
            "text/plain": [
              "HBox(children=(FloatProgress(value=0.0, max=3736.0), HTML(value='')))"
            ]
          },
          "metadata": {
            "tags": []
          }
        },
        {
          "output_type": "stream",
          "text": [
            "\n"
          ],
          "name": "stdout"
        }
      ]
    },
    {
      "cell_type": "markdown",
      "metadata": {
        "id": "m_U9uNSLUSh7",
        "colab_type": "text"
      },
      "source": [
        "Here extracting test mfccs"
      ]
    },
    {
      "cell_type": "code",
      "metadata": {
        "id": "g91fFBj9wnmY",
        "colab_type": "code",
        "colab": {
          "base_uri": "https://localhost:8080/",
          "height": 67,
          "referenced_widgets": [
            "bc60366c740c47059a865ca4fe8f2f5a",
            "55034e6ae3d046179fa65b1877da39e0",
            "39ee6d8c50ea4fa3be968abf16faace9",
            "5702788aaf7c4915941962934ec1a01d",
            "429a1c4d97574f27a97c0789c00b9363",
            "e9251d33925244579bf23ab6ba6c5137",
            "21eeae3ff6db4d38b43041f9cb58daec",
            "5b7482990baa40e5bad332eb9f51cf94"
          ]
        },
        "outputId": "ad2fd17e-ab06-493a-cb44-9c79b0f4928e"
      },
      "source": [
        "## Test\n",
        "gsm_unnormalised_test = []\n",
        "orig_unnormalised_test = []\n",
        "\n",
        "test_mfcc_nos = [0]\n",
        "for orig_file in tqdm(orig_filenames[1800:2800]):\n",
        "  if orig_file in gsm_filenames:\n",
        "    orig_audio_path = os.path.join(orig_dir, orig_file)\n",
        "    gsm_audio_path = os.path.join(gsm_dir, orig_file)\n",
        "\n",
        "    orig, orig_sr = lr.load(orig_audio_path)\n",
        "    gsm, gsm_sr = lr.load(gsm_audio_path)\n",
        "\n",
        "    if (len(orig)!=len(gsm)): \n",
        "        min_len = np.min((len(orig), len(gsm)))\n",
        "        orig = orig[0:min_len-1]\n",
        "        gsm = gsm[0:min_len-1]\n",
        "    orig_mfcc_test = lr.feature.mfcc(orig, orig_sr, n_mfcc= mfcc_dim, hop_length=int(orig_sr/100), n_fft=int(orig_sr/40))  \n",
        "    orig_mfcc_test = np.vstack((orig_mfcc_test,lr.feature.delta(orig_mfcc_test, order=1),lr.feature.delta(orig_mfcc_test,order= 2)))\n",
        "    gsm_mfcc_test = lr.feature.mfcc(gsm, gsm_sr, n_mfcc= mfcc_dim, hop_length=int(orig_sr/100), n_fft=int(orig_sr/40))\n",
        "    gsm_mfcc_test = np.vstack((gsm_mfcc_test,lr.feature.delta(gsm_mfcc_test, order=1),lr.feature.delta(gsm_mfcc_test,order= 2)))\n",
        "    test_mfcc_nos.append(orig_mfcc_test.shape[1])\n",
        "\n",
        "    gsm_unnormalised_test.append(gsm_mfcc_test.T) \n",
        "    orig_unnormalised_test.append(orig_mfcc_test.T)\n",
        "\n",
        "orig_unnormalised_stacked_test = np.vstack((np.array(orig_unnormalised_test)))\n",
        "gsm_unnormalised_stacked_test = np.vstack((np.array(gsm_unnormalised_test)))\n",
        "test_mfcc_nos = np.array(test_mfcc_nos)"
      ],
      "execution_count": null,
      "outputs": [
        {
          "output_type": "display_data",
          "data": {
            "application/vnd.jupyter.widget-view+json": {
              "model_id": "bc60366c740c47059a865ca4fe8f2f5a",
              "version_minor": 0,
              "version_major": 2
            },
            "text/plain": [
              "HBox(children=(FloatProgress(value=0.0, max=2.0), HTML(value='')))"
            ]
          },
          "metadata": {
            "tags": []
          }
        },
        {
          "output_type": "stream",
          "text": [
            "\n"
          ],
          "name": "stdout"
        }
      ]
    },
    {
      "cell_type": "markdown",
      "metadata": {
        "id": "J8Xsd5OrUWEE",
        "colab_type": "text"
      },
      "source": [
        "Now performing feature scaling"
      ]
    },
    {
      "cell_type": "code",
      "metadata": {
        "id": "7vb01aDVdSmd",
        "colab_type": "code",
        "colab": {}
      },
      "source": [
        "orig_stacked = np.zeros((orig_unnormalised_stacked.shape[0],orig_unnormalised_stacked.shape[1]))\n",
        "gsm_stacked = np.zeros((gsm_unnormalised_stacked.shape[0],gsm_unnormalised_stacked.shape[1]))\n",
        "#orig_stacked_test = np.zeros((orig_unnormalised_stacked_test.shape[0],orig_unnormalised_stacked_test.shape[1]))\n",
        "#gsm_stacked_test = np.zeros((gsm_unnormalised_stacked_test.shape[0],gsm_unnormalised_stacked_test.shape[1]))\n",
        "\n",
        "orig_stacked_max_coeff = []\n",
        "orig_stacked_min_coeff = []\n",
        "orig_stacked_mean_coeff = []\n",
        "gsm_stacked_max_coeff = []\n",
        "gsm_stacked_min_coeff = []\n",
        "gsm_stacked_mean_coeff = []\n",
        " \n",
        "for i in range(39):\n",
        "  mx = np.max(orig_unnormalised_stacked[:,i]) \n",
        "  min = np.min(orig_unnormalised_stacked[:,i])\n",
        "  mn = np.mean(orig_unnormalised_stacked[:,i])\n",
        "  orig_stacked[:,i] = (orig_unnormalised_stacked[:,i]-mn)/(mx-min)\n",
        "  #orig_stacked_test[:,i] = (orig_unnormalised_stacked_test[:,i]-mn)/(mx-min)\n",
        "\n",
        "  orig_stacked_max_coeff.append(mx)\n",
        "  orig_stacked_min_coeff.append(min)\n",
        "  orig_stacked_mean_coeff.append(mn)\n",
        "  \n",
        "  mx = np.max(gsm_unnormalised_stacked[:,i]) \n",
        "  min = np.min(gsm_unnormalised_stacked[:,i])\n",
        "  mn = np.mean(gsm_unnormalised_stacked[:,i])\n",
        "  gsm_stacked[:,i] = (gsm_unnormalised_stacked[:,i]-mn)/(mx-min)\n",
        "  #gsm_stacked_test[:,i] = (gsm_unnormalised_stacked_test[:,i]-mn)/(mx-min)\n",
        "  \n",
        "  gsm_stacked_max_coeff.append(mx)\n",
        "  gsm_stacked_min_coeff.append(min)\n",
        "  gsm_stacked_mean_coeff.append(mn)  \n",
        "\n",
        "orig_stacked_max_coeff = np.array(orig_stacked_max_coeff)\n",
        "orig_stacked_min_coeff = np.array(orig_stacked_min_coeff)\n",
        "orig_stacked_mean_coeff = np.array(orig_stacked_mean_coeff)\n",
        "\n",
        "gsm_stacked_max_coeff = np.array(gsm_stacked_max_coeff)\n",
        "gsm_stacked_min_coeff = np.array(gsm_stacked_min_coeff)\n",
        "gsm_stacked_mean_coeff = np.array(gsm_stacked_mean_coeff)\n",
        "err_of_gsm_stacked = gsm_stacked - orig_stacked\n",
        "#err_of_gsm_stacked_test = sip_stacked_test - orig_stacked_test\n",
        "\n",
        "\n"
      ],
      "execution_count": 7,
      "outputs": []
    },
    {
      "cell_type": "markdown",
      "metadata": {
        "id": "kgYGJ_Mrzye0",
        "colab_type": "text"
      },
      "source": [
        "\n",
        "**TRAINING LSTM**"
      ]
    },
    {
      "cell_type": "code",
      "metadata": {
        "id": "y65P7VG0fDWL",
        "colab_type": "code",
        "colab": {}
      },
      "source": [
        "min_frames= 145"
      ],
      "execution_count": 8,
      "outputs": []
    },
    {
      "cell_type": "code",
      "metadata": {
        "id": "ijq28mdyBgGx",
        "colab_type": "code",
        "colab": {}
      },
      "source": [
        "p=orig_stacked.shape[0]//min_frames\n",
        "q=orig_stacked.shape[0]%min_frames"
      ],
      "execution_count": 9,
      "outputs": []
    },
    {
      "cell_type": "markdown",
      "metadata": {
        "id": "AsdxZjVSjKzR",
        "colab_type": "text"
      },
      "source": [
        "normalisaton - x-mean/max-min, \n",
        "input = gsm, output = orig"
      ]
    },
    {
      "cell_type": "code",
      "metadata": {
        "id": "cbkA-cvT8wwt",
        "colab_type": "code",
        "colab": {}
      },
      "source": [
        "lstm_orig_mfcc = np.reshape(orig_stacked[:-q,:],(p,min_frames,39))\n",
        "lstm_gsm_mfcc = np.reshape(gsm_stacked[:-q,:],(p,min_frames,39))\n",
        "#lstm_orig_gsm_err_mfcc = np.reshape(err_of_gsm_stacked[:-q,:],(p,min_frames,39))\n"
      ],
      "execution_count": 10,
      "outputs": []
    },
    {
      "cell_type": "code",
      "metadata": {
        "id": "dmUcXVhZLuoh",
        "colab_type": "code",
        "colab": {}
      },
      "source": [
        "#p=orig_stacked_test.shape[0]//min_frames\n",
        "#q=orig_stacked_test.shape[0]%min_frames"
      ],
      "execution_count": 11,
      "outputs": []
    },
    {
      "cell_type": "code",
      "metadata": {
        "id": "aYS3z-Ti95UO",
        "colab_type": "code",
        "colab": {}
      },
      "source": [
        "#lstm_orig_mfcc_test = np.reshape(orig_stacked_test[:-q,:],(p,min_frames,39))\n",
        "#lstm_gsm_mfcc_test = np.reshape(gsm_stacked_test[:-q,:],(p,min_frames,39))\n",
        "#lstm_orig_gsm_err_mfcc_test = np.reshape(err_of_gsm_stacked_test[:-q,:],(p,min_frames,39))"
      ],
      "execution_count": 12,
      "outputs": []
    },
    {
      "cell_type": "code",
      "metadata": {
        "id": "9-gz_k2z5HR1",
        "colab_type": "code",
        "colab": {}
      },
      "source": [
        "lstm_gsm_train, lstm_gsm_val, lstm_orig_train, lstm_orig_val = train_test_split(lstm_gsm_mfcc, lstm_orig_mfcc, test_size=0.3)"
      ],
      "execution_count": 13,
      "outputs": []
    },
    {
      "cell_type": "code",
      "metadata": {
        "id": "qvF61xUGMTsi",
        "colab_type": "code",
        "colab": {}
      },
      "source": [
        "model3 = tf.keras.Sequential()\n",
        "model3.add(tf.keras.layers.Bidirectional(tf.keras.layers.LSTM(units= min_frames,input_shape = (145, 39),return_sequences=True, activation= 'tanh')))\n",
        "model3.add(tf.keras.layers.GaussianNoise(0.001))\n",
        "model3.add(tf.keras.layers.Bidirectional(tf.keras.layers.LSTM(units= 145,return_sequences=True, activation= 'tanh'), merge_mode= 'sum'))\n",
        "model3.add(tf.keras.layers.TimeDistributed(tf.keras.layers.Dense((39), activation= 'tanh', kernel_regularizer= None)))\n",
        "model3.add(tf.keras.layers.TimeDistributed(tf.keras.layers.Dense((39), activation= None)))"
      ],
      "execution_count": 14,
      "outputs": []
    },
    {
      "cell_type": "code",
      "metadata": {
        "id": "dnWGMq8J7vhw",
        "colab_type": "code",
        "colab": {
          "base_uri": "https://localhost:8080/",
          "height": 34
        },
        "outputId": "355c1dfb-bab2-425b-8555-98a6e887716d"
      },
      "source": [
        "los = tf.keras.losses.MeanSquaredError()\n",
        "initial_learning_rate = 0.01\n",
        "opt = tf.keras.optimizers.Adam(learning_rate = initial_learning_rate)\n",
        "model3.compile(loss = los, optimizer= opt, \\\n",
        "              metrics = [tf.keras.metrics.MeanSquaredError(name= 'mse')])\n",
        "print(\"Total utterances :\", lstm_gsm_train.shape[0])"
      ],
      "execution_count": 15,
      "outputs": [
        {
          "output_type": "stream",
          "text": [
            "Total utterances : 9146\n"
          ],
          "name": "stdout"
        }
      ]
    },
    {
      "cell_type": "code",
      "metadata": {
        "id": "22eHvpUi74XJ",
        "colab_type": "code",
        "colab": {
          "base_uri": "https://localhost:8080/",
          "height": 196
        },
        "outputId": "9720316b-e2a6-45a6-9e64-c3639377ab11"
      },
      "source": [
        "num_epoch = 5\n",
        "inp_batch_size = 100\n",
        "reduce_lr = tf.keras.callbacks.ReduceLROnPlateau(\n",
        "    monitor='val_loss', factor=0.1, patience=2, min_lr=0.000)\n",
        "history = model3.fit(lstm_gsm_train,  lstm_orig_train,\n",
        "                    batch_size= inp_batch_size,\n",
        "                    epochs= num_epoch,\n",
        "                    validation_data=(lstm_gsm_val,lstm_orig_val),\n",
        "                    verbose= 2,\n",
        "                    callbacks=[reduce_lr]\n",
        "                   )"
      ],
      "execution_count": 18,
      "outputs": [
        {
          "output_type": "stream",
          "text": [
            "Epoch 1/5\n",
            "92/92 - 6s - loss: 0.0053 - mse: 0.0053 - val_loss: 0.0054 - val_mse: 0.0054 - lr: 1.0000e-05\n",
            "Epoch 2/5\n",
            "92/92 - 7s - loss: 0.0053 - mse: 0.0053 - val_loss: 0.0054 - val_mse: 0.0054 - lr: 1.0000e-05\n",
            "Epoch 3/5\n",
            "92/92 - 6s - loss: 0.0053 - mse: 0.0053 - val_loss: 0.0054 - val_mse: 0.0054 - lr: 1.0000e-05\n",
            "Epoch 4/5\n",
            "92/92 - 6s - loss: 0.0053 - mse: 0.0053 - val_loss: 0.0054 - val_mse: 0.0054 - lr: 1.0000e-06\n",
            "Epoch 5/5\n",
            "92/92 - 6s - loss: 0.0053 - mse: 0.0053 - val_loss: 0.0054 - val_mse: 0.0054 - lr: 1.0000e-06\n"
          ],
          "name": "stdout"
        }
      ]
    },
    {
      "cell_type": "code",
      "metadata": {
        "id": "kmpyr0LjGkCH",
        "colab_type": "code",
        "colab": {}
      },
      "source": [
        "#save_dir = cur_dir+\"/sip-gsm-orig-out-performance/\"\n",
        "#model3.save(cur_dir+'/blstm_gsm_orig_model_latest')"
      ],
      "execution_count": 22,
      "outputs": []
    },
    {
      "cell_type": "code",
      "metadata": {
        "id": "35F2y3fkTo62",
        "colab_type": "code",
        "colab": {}
      },
      "source": [
        "#loaded = tf.keras.models.load_model(cur_dir+'/blstm_gsm_orig_model_latest')"
      ],
      "execution_count": 20,
      "outputs": []
    },
    {
      "cell_type": "code",
      "metadata": {
        "id": "a1wn-WUMT-oE",
        "colab_type": "code",
        "colab": {}
      },
      "source": [
        ""
      ],
      "execution_count": null,
      "outputs": []
    }
  ]
}